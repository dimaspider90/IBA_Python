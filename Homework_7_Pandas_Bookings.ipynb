{
 "metadata": {
  "kernelspec": {
   "name": "python3",
   "display_name": "Python 3 (ipykernel)",
   "language": "python"
  },
  "language_info": {
   "codemirror_mode": {
    "name": "python",
    "version": 3
   },
   "file_extension": ".py",
   "mimetype": "text/x-python",
   "name": "python",
   "nbconvert_exporter": "python",
   "pygments_lexer": "ipython3",
   "version": "3.8"
  }
 },
 "nbformat_minor": 4,
 "nbformat": 4,
 "cells": [
  {
   "cell_type": "markdown",
   "source": "Вам предстоит проанализировать данные о бронировании отелей. ",
   "metadata": {}
  },
  {
   "cell_type": "markdown",
   "source": "# Задание 1. \n\nИмпортируйте библиотеку pandas как pd. Загрузите датасет bookings.csv с разделителем ;. \nПроверьте размер таблицы, типы переменных, а затем выведите первые 7 строк, чтобы посмотреть на данные.",
   "metadata": {}
  },
  {
   "cell_type": "markdown",
   "source": "Описание данных.\nИмеются следующие переменные:\n\nHotel – тип отеля (City Hotel или Resort Hotel)\n\nIs canceled – бронирование было отменено (1) или нет (0); не отмененное считается успешным\n\nLead time – количество дней, прошедших между датой бронирования и датой прибытия\n\nArrival full date – полная дата прибытия\n\nArrival date year – год прибытия\n\nArrival date month – месяц прибытия\n\nArrival date week number – номер недели прибытия\n\nArrival date day of month – день прибытия\n\nStays in weekend nights – количество выходных (суббота или воскресенье), которые гость забронировал для проживания в отеле\n\nStays in week nights – количество дней (с понедельника по пятницу), которые гость забронировал для проживания в отеле\n\nStays total nights – общее число забронированных ночей (сумма двух предыдущих колонок)\n\nAdults – число взрослых\n\nChildren – число детей\n\nBabies – число младенцев\n\nMeal – выбранный тип питания\n\nCountry – страна происхождения клиента\n\nReserved room type – тип зарезервированного номера\n\nAssigned room type – тип полученного номера (может отличаться от забронированного)\n\nCustomer type – тип бронирования\n\nReservation status – значение последнего статуса брони: Canceled - было отменено клиентом; Check-Out - клиент зарегистрировался, но уже покинул отель; No-Show - клиент не зарегистрировался и сообщил администрации отеля причину\n\nReservation status date – дата обновления статуса",
   "metadata": {}
  },
  {
   "cell_type": "code",
   "source": "import pandas as pd",
   "metadata": {
    "trusted": true,
    "ExecuteTime": {
     "end_time": "2025-03-04T18:29:12.331188Z",
     "start_time": "2025-03-04T18:29:12.328031Z"
    }
   },
   "outputs": [],
   "execution_count": 77
  },
  {
   "cell_type": "code",
   "source": "df = pd.read_csv('2_bookings.csv', encoding='windows-1251', sep=';')",
   "metadata": {
    "trusted": true,
    "ExecuteTime": {
     "end_time": "2025-03-02T18:55:48.223089Z",
     "start_time": "2025-03-02T18:55:48.005537Z"
    }
   },
   "outputs": [],
   "execution_count": 76
  },
  {
   "cell_type": "code",
   "source": "# Проверка размера таблицы\ndf.shape",
   "metadata": {
    "trusted": true,
    "ExecuteTime": {
     "end_time": "2025-03-02T17:08:35.296934Z",
     "start_time": "2025-03-02T17:08:35.290105Z"
    }
   },
   "outputs": [
    {
     "data": {
      "text/plain": [
       "(119390, 21)"
      ]
     },
     "execution_count": 11,
     "metadata": {},
     "output_type": "execute_result"
    }
   ],
   "execution_count": 11
  },
  {
   "cell_type": "code",
   "source": "# Проверка типов переменных\ndf.dtypes",
   "metadata": {
    "trusted": true,
    "ExecuteTime": {
     "end_time": "2025-03-02T17:08:39.790922Z",
     "start_time": "2025-03-02T17:08:39.784091Z"
    }
   },
   "outputs": [
    {
     "data": {
      "text/plain": [
       "Hotel                         object\n",
       "Is Canceled                    int64\n",
       "Lead Time                      int64\n",
       "arrival full date             object\n",
       "Arrival Date Year              int64\n",
       "Arrival Date Month            object\n",
       "Arrival Date Week Number       int64\n",
       "Arrival Date Day of Month      int64\n",
       "Stays in Weekend nights        int64\n",
       "Stays in week nights           int64\n",
       "stays total nights             int64\n",
       "Adults                         int64\n",
       "Children                     float64\n",
       "Babies                         int64\n",
       "Meal                          object\n",
       "Country                       object\n",
       "Reserved Room Type            object\n",
       "Assigned room type            object\n",
       "customer type                 object\n",
       "Reservation Status            object\n",
       "Reservation status_date       object\n",
       "dtype: object"
      ]
     },
     "execution_count": 12,
     "metadata": {},
     "output_type": "execute_result"
    }
   ],
   "execution_count": 12
  },
  {
   "cell_type": "code",
   "source": "# Вывод первых 7 строк данных\ndf.head(7)",
   "metadata": {
    "trusted": true,
    "ExecuteTime": {
     "end_time": "2025-03-02T17:08:46.696400Z",
     "start_time": "2025-03-02T17:08:46.684035Z"
    }
   },
   "outputs": [
    {
     "data": {
      "text/plain": [
       "          Hotel  Is Canceled  Lead Time arrival full date  Arrival Date Year  \\\n",
       "0  Resort Hotel            0        342        2015-07-01               2015   \n",
       "1  Resort Hotel            0        737        2015-07-01               2015   \n",
       "2  Resort Hotel            0          7        2015-07-01               2015   \n",
       "3  Resort Hotel            0         13        2015-07-01               2015   \n",
       "4  Resort Hotel            0         14        2015-07-01               2015   \n",
       "5  Resort Hotel            0         14        2015-07-01               2015   \n",
       "6  Resort Hotel            0          0        2015-07-01               2015   \n",
       "\n",
       "  Arrival Date Month  Arrival Date Week Number  Arrival Date Day of Month  \\\n",
       "0               July                        27                          1   \n",
       "1               July                        27                          1   \n",
       "2               July                        27                          1   \n",
       "3               July                        27                          1   \n",
       "4               July                        27                          1   \n",
       "5               July                        27                          1   \n",
       "6               July                        27                          1   \n",
       "\n",
       "   Stays in Weekend nights  Stays in week nights  ...  Adults  Children  \\\n",
       "0                        0                     0  ...       2       0.0   \n",
       "1                        0                     0  ...       2       0.0   \n",
       "2                        0                     1  ...       1       0.0   \n",
       "3                        0                     1  ...       1       0.0   \n",
       "4                        0                     2  ...       2       0.0   \n",
       "5                        0                     2  ...       2       0.0   \n",
       "6                        0                     2  ...       2       0.0   \n",
       "\n",
       "   Babies  Meal Country Reserved Room Type Assigned room type customer type  \\\n",
       "0       0    BB     PRT                  C                  C     Transient   \n",
       "1       0    BB     PRT                  C                  C     Transient   \n",
       "2       0    BB     GBR                  A                  C     Transient   \n",
       "3       0    BB     GBR                  A                  A     Transient   \n",
       "4       0    BB     GBR                  A                  A     Transient   \n",
       "5       0    BB     GBR                  A                  A     Transient   \n",
       "6       0    BB     PRT                  C                  C     Transient   \n",
       "\n",
       "  Reservation Status Reservation status_date  \n",
       "0          Check-Out              2015-07-01  \n",
       "1          Check-Out              2015-07-01  \n",
       "2          Check-Out              2015-07-02  \n",
       "3          Check-Out              2015-07-02  \n",
       "4          Check-Out              2015-07-03  \n",
       "5          Check-Out              2015-07-03  \n",
       "6          Check-Out              2015-07-03  \n",
       "\n",
       "[7 rows x 21 columns]"
      ],
      "text/html": [
       "<div>\n",
       "<style scoped>\n",
       "    .dataframe tbody tr th:only-of-type {\n",
       "        vertical-align: middle;\n",
       "    }\n",
       "\n",
       "    .dataframe tbody tr th {\n",
       "        vertical-align: top;\n",
       "    }\n",
       "\n",
       "    .dataframe thead th {\n",
       "        text-align: right;\n",
       "    }\n",
       "</style>\n",
       "<table border=\"1\" class=\"dataframe\">\n",
       "  <thead>\n",
       "    <tr style=\"text-align: right;\">\n",
       "      <th></th>\n",
       "      <th>Hotel</th>\n",
       "      <th>Is Canceled</th>\n",
       "      <th>Lead Time</th>\n",
       "      <th>arrival full date</th>\n",
       "      <th>Arrival Date Year</th>\n",
       "      <th>Arrival Date Month</th>\n",
       "      <th>Arrival Date Week Number</th>\n",
       "      <th>Arrival Date Day of Month</th>\n",
       "      <th>Stays in Weekend nights</th>\n",
       "      <th>Stays in week nights</th>\n",
       "      <th>...</th>\n",
       "      <th>Adults</th>\n",
       "      <th>Children</th>\n",
       "      <th>Babies</th>\n",
       "      <th>Meal</th>\n",
       "      <th>Country</th>\n",
       "      <th>Reserved Room Type</th>\n",
       "      <th>Assigned room type</th>\n",
       "      <th>customer type</th>\n",
       "      <th>Reservation Status</th>\n",
       "      <th>Reservation status_date</th>\n",
       "    </tr>\n",
       "  </thead>\n",
       "  <tbody>\n",
       "    <tr>\n",
       "      <th>0</th>\n",
       "      <td>Resort Hotel</td>\n",
       "      <td>0</td>\n",
       "      <td>342</td>\n",
       "      <td>2015-07-01</td>\n",
       "      <td>2015</td>\n",
       "      <td>July</td>\n",
       "      <td>27</td>\n",
       "      <td>1</td>\n",
       "      <td>0</td>\n",
       "      <td>0</td>\n",
       "      <td>...</td>\n",
       "      <td>2</td>\n",
       "      <td>0.0</td>\n",
       "      <td>0</td>\n",
       "      <td>BB</td>\n",
       "      <td>PRT</td>\n",
       "      <td>C</td>\n",
       "      <td>C</td>\n",
       "      <td>Transient</td>\n",
       "      <td>Check-Out</td>\n",
       "      <td>2015-07-01</td>\n",
       "    </tr>\n",
       "    <tr>\n",
       "      <th>1</th>\n",
       "      <td>Resort Hotel</td>\n",
       "      <td>0</td>\n",
       "      <td>737</td>\n",
       "      <td>2015-07-01</td>\n",
       "      <td>2015</td>\n",
       "      <td>July</td>\n",
       "      <td>27</td>\n",
       "      <td>1</td>\n",
       "      <td>0</td>\n",
       "      <td>0</td>\n",
       "      <td>...</td>\n",
       "      <td>2</td>\n",
       "      <td>0.0</td>\n",
       "      <td>0</td>\n",
       "      <td>BB</td>\n",
       "      <td>PRT</td>\n",
       "      <td>C</td>\n",
       "      <td>C</td>\n",
       "      <td>Transient</td>\n",
       "      <td>Check-Out</td>\n",
       "      <td>2015-07-01</td>\n",
       "    </tr>\n",
       "    <tr>\n",
       "      <th>2</th>\n",
       "      <td>Resort Hotel</td>\n",
       "      <td>0</td>\n",
       "      <td>7</td>\n",
       "      <td>2015-07-01</td>\n",
       "      <td>2015</td>\n",
       "      <td>July</td>\n",
       "      <td>27</td>\n",
       "      <td>1</td>\n",
       "      <td>0</td>\n",
       "      <td>1</td>\n",
       "      <td>...</td>\n",
       "      <td>1</td>\n",
       "      <td>0.0</td>\n",
       "      <td>0</td>\n",
       "      <td>BB</td>\n",
       "      <td>GBR</td>\n",
       "      <td>A</td>\n",
       "      <td>C</td>\n",
       "      <td>Transient</td>\n",
       "      <td>Check-Out</td>\n",
       "      <td>2015-07-02</td>\n",
       "    </tr>\n",
       "    <tr>\n",
       "      <th>3</th>\n",
       "      <td>Resort Hotel</td>\n",
       "      <td>0</td>\n",
       "      <td>13</td>\n",
       "      <td>2015-07-01</td>\n",
       "      <td>2015</td>\n",
       "      <td>July</td>\n",
       "      <td>27</td>\n",
       "      <td>1</td>\n",
       "      <td>0</td>\n",
       "      <td>1</td>\n",
       "      <td>...</td>\n",
       "      <td>1</td>\n",
       "      <td>0.0</td>\n",
       "      <td>0</td>\n",
       "      <td>BB</td>\n",
       "      <td>GBR</td>\n",
       "      <td>A</td>\n",
       "      <td>A</td>\n",
       "      <td>Transient</td>\n",
       "      <td>Check-Out</td>\n",
       "      <td>2015-07-02</td>\n",
       "    </tr>\n",
       "    <tr>\n",
       "      <th>4</th>\n",
       "      <td>Resort Hotel</td>\n",
       "      <td>0</td>\n",
       "      <td>14</td>\n",
       "      <td>2015-07-01</td>\n",
       "      <td>2015</td>\n",
       "      <td>July</td>\n",
       "      <td>27</td>\n",
       "      <td>1</td>\n",
       "      <td>0</td>\n",
       "      <td>2</td>\n",
       "      <td>...</td>\n",
       "      <td>2</td>\n",
       "      <td>0.0</td>\n",
       "      <td>0</td>\n",
       "      <td>BB</td>\n",
       "      <td>GBR</td>\n",
       "      <td>A</td>\n",
       "      <td>A</td>\n",
       "      <td>Transient</td>\n",
       "      <td>Check-Out</td>\n",
       "      <td>2015-07-03</td>\n",
       "    </tr>\n",
       "    <tr>\n",
       "      <th>5</th>\n",
       "      <td>Resort Hotel</td>\n",
       "      <td>0</td>\n",
       "      <td>14</td>\n",
       "      <td>2015-07-01</td>\n",
       "      <td>2015</td>\n",
       "      <td>July</td>\n",
       "      <td>27</td>\n",
       "      <td>1</td>\n",
       "      <td>0</td>\n",
       "      <td>2</td>\n",
       "      <td>...</td>\n",
       "      <td>2</td>\n",
       "      <td>0.0</td>\n",
       "      <td>0</td>\n",
       "      <td>BB</td>\n",
       "      <td>GBR</td>\n",
       "      <td>A</td>\n",
       "      <td>A</td>\n",
       "      <td>Transient</td>\n",
       "      <td>Check-Out</td>\n",
       "      <td>2015-07-03</td>\n",
       "    </tr>\n",
       "    <tr>\n",
       "      <th>6</th>\n",
       "      <td>Resort Hotel</td>\n",
       "      <td>0</td>\n",
       "      <td>0</td>\n",
       "      <td>2015-07-01</td>\n",
       "      <td>2015</td>\n",
       "      <td>July</td>\n",
       "      <td>27</td>\n",
       "      <td>1</td>\n",
       "      <td>0</td>\n",
       "      <td>2</td>\n",
       "      <td>...</td>\n",
       "      <td>2</td>\n",
       "      <td>0.0</td>\n",
       "      <td>0</td>\n",
       "      <td>BB</td>\n",
       "      <td>PRT</td>\n",
       "      <td>C</td>\n",
       "      <td>C</td>\n",
       "      <td>Transient</td>\n",
       "      <td>Check-Out</td>\n",
       "      <td>2015-07-03</td>\n",
       "    </tr>\n",
       "  </tbody>\n",
       "</table>\n",
       "<p>7 rows × 21 columns</p>\n",
       "</div>"
      ]
     },
     "execution_count": 13,
     "metadata": {},
     "output_type": "execute_result"
    }
   ],
   "execution_count": 13
  },
  {
   "cell_type": "markdown",
   "source": "# Задание 2. \nСохраните прочитанный датасет в bookings.\nЗатем запишите первые 7 строк в переменную bookings_head.",
   "metadata": {}
  },
  {
   "cell_type": "code",
   "source": "bookings_head = df.head(7)",
   "metadata": {
    "trusted": true,
    "ExecuteTime": {
     "end_time": "2025-03-02T18:44:46.363526Z",
     "start_time": "2025-03-02T18:44:46.099248Z"
    }
   },
   "outputs": [],
   "execution_count": 69
  },
  {
   "cell_type": "markdown",
   "source": "# Задание 3. \n\nПосмотрите на размеры таблицы. Сколько всего в ней столбцов?",
   "metadata": {}
  },
  {
   "cell_type": "code",
   "source": [
    "# Проверка размера таблицы\n",
    "print(\"Размер таблицы:\", df.shape)"
   ],
   "metadata": {
    "trusted": true,
    "ExecuteTime": {
     "end_time": "2025-03-02T17:28:26.511936Z",
     "start_time": "2025-03-02T17:28:26.508578Z"
    }
   },
   "outputs": [
    {
     "name": "stdout",
     "output_type": "stream",
     "text": [
      "Размер таблицы: (119390, 21)\n"
     ]
    }
   ],
   "execution_count": 39
  },
  {
   "cell_type": "code",
   "source": [
    "# Количество столбцов\n",
    "print(\"Количество столбцов:\", df.shape[1])"
   ],
   "metadata": {
    "trusted": true,
    "ExecuteTime": {
     "end_time": "2025-03-02T17:28:31.986857Z",
     "start_time": "2025-03-02T17:28:31.984061Z"
    }
   },
   "outputs": [
    {
     "name": "stdout",
     "output_type": "stream",
     "text": [
      "Количество столбцов: 21\n"
     ]
    }
   ],
   "execution_count": 40
  },
  {
   "cell_type": "markdown",
   "source": "# Задание 4. \n\nК какому типу относится большинство переменных?",
   "metadata": {}
  },
  {
   "cell_type": "code",
   "source": [
    "# Проверка типов переменных\n",
    "bookings.dtypes"
   ],
   "metadata": {
    "trusted": true,
    "ExecuteTime": {
     "end_time": "2025-03-02T18:47:01.510465Z",
     "start_time": "2025-03-02T18:47:01.505817Z"
    }
   },
   "outputs": [
    {
     "data": {
      "text/plain": [
       "Hotel                         object\n",
       "Is Canceled                    int64\n",
       "Lead Time                      int64\n",
       "arrival full date             object\n",
       "Arrival Date Year              int64\n",
       "Arrival Date Month            object\n",
       "Arrival Date Week Number       int64\n",
       "Arrival Date Day of Month      int64\n",
       "Stays in Weekend nights        int64\n",
       "Stays in week nights           int64\n",
       "stays total nights             int64\n",
       "Adults                         int64\n",
       "Children                     float64\n",
       "Babies                         int64\n",
       "Meal                          object\n",
       "Country                       object\n",
       "Reserved Room Type            object\n",
       "Assigned room type            object\n",
       "customer type                 object\n",
       "Reservation Status            object\n",
       "Reservation status_date       object\n",
       "dtype: object"
      ]
     },
     "execution_count": 71,
     "metadata": {},
     "output_type": "execute_result"
    }
   ],
   "execution_count": 71
  },
  {
   "cell_type": "code",
   "source": "bookings.dtypes.value_counts()",
   "metadata": {
    "trusted": true,
    "ExecuteTime": {
     "end_time": "2025-03-02T17:28:37.961057Z",
     "start_time": "2025-03-02T17:28:37.955547Z"
    }
   },
   "outputs": [
    {
     "data": {
      "text/plain": [
       "object     10\n",
       "int64      10\n",
       "float64     1\n",
       "Name: count, dtype: int64"
      ]
     },
     "execution_count": 42,
     "metadata": {},
     "output_type": "execute_result"
    }
   ],
   "execution_count": 42
  },
  {
   "cell_type": "code",
   "source": "#  большинство столбцов относятся к типу 'object'",
   "metadata": {
    "trusted": true,
    "ExecuteTime": {
     "end_time": "2025-03-02T17:28:40.507912Z",
     "start_time": "2025-03-02T17:28:40.503540Z"
    }
   },
   "outputs": [],
   "execution_count": 43
  },
  {
   "cell_type": "code",
   "source": "bookings.info()",
   "metadata": {
    "trusted": true,
    "ExecuteTime": {
     "end_time": "2025-03-02T18:47:18.381530Z",
     "start_time": "2025-03-02T18:47:18.335294Z"
    }
   },
   "outputs": [
    {
     "name": "stdout",
     "output_type": "stream",
     "text": [
      "<class 'pandas.core.frame.DataFrame'>\n",
      "RangeIndex: 119390 entries, 0 to 119389\n",
      "Data columns (total 21 columns):\n",
      " #   Column                     Non-Null Count   Dtype  \n",
      "---  ------                     --------------   -----  \n",
      " 0   Hotel                      119390 non-null  object \n",
      " 1   Is Canceled                119390 non-null  int64  \n",
      " 2   Lead Time                  119390 non-null  int64  \n",
      " 3   arrival full date          119390 non-null  object \n",
      " 4   Arrival Date Year          119390 non-null  int64  \n",
      " 5   Arrival Date Month         119390 non-null  object \n",
      " 6   Arrival Date Week Number   119390 non-null  int64  \n",
      " 7   Arrival Date Day of Month  119390 non-null  int64  \n",
      " 8   Stays in Weekend nights    119390 non-null  int64  \n",
      " 9   Stays in week nights       119390 non-null  int64  \n",
      " 10  stays total nights         119390 non-null  int64  \n",
      " 11  Adults                     119390 non-null  int64  \n",
      " 12  Children                   119386 non-null  float64\n",
      " 13  Babies                     119390 non-null  int64  \n",
      " 14  Meal                       119390 non-null  object \n",
      " 15  Country                    118902 non-null  object \n",
      " 16  Reserved Room Type         119390 non-null  object \n",
      " 17  Assigned room type         119390 non-null  object \n",
      " 18  customer type              119390 non-null  object \n",
      " 19  Reservation Status         119390 non-null  object \n",
      " 20  Reservation status_date    119390 non-null  object \n",
      "dtypes: float64(1), int64(10), object(10)\n",
      "memory usage: 19.1+ MB\n"
     ]
    }
   ],
   "execution_count": 72
  },
  {
   "cell_type": "markdown",
   "source": "# Задание 5.\n\nКак вы уже могли заметить, при сборе датасета произошла небольшая ошибка, и названия колонок были записаны \nв неудобном для дальнейшей работы формате. Исправьте ситуацию, \nприведя названия столбцов к нижнему регистру и заменив пробелы на знак нижнего подчеркивания.\n\nНапример: Is Canceled -> is_canceled\n\nПодсказка: вы можете использовать цикл, который будет проходить по bookings.columns, а в теле цикла использовать методы строк:\n\ncolumn.replace(\" \", \"_\").lower()",
   "metadata": {}
  },
  {
   "cell_type": "code",
   "source": [
    "new_columns = []\n",
    "for column in df.columns:\n",
    "    new_columns.append(column.replace(\" \", \"_\").lower())\n",
    "\n",
    "df.columns = new_columns\n",
    "\n",
    "print(\"\\\\nНовые названия столбцов:\")\n",
    "print(df.columns)"
   ],
   "metadata": {
    "trusted": true,
    "ExecuteTime": {
     "end_time": "2025-03-02T17:29:09.586294Z",
     "start_time": "2025-03-02T17:29:09.581529Z"
    }
   },
   "outputs": [
    {
     "name": "stdout",
     "output_type": "stream",
     "text": [
      "Новые названия столбцов:\n",
      "Index(['hotel', 'is_canceled', 'lead_time', 'arrival_full_date',\n",
      "       'arrival_date_year', 'arrival_date_month', 'arrival_date_week_number',\n",
      "       'arrival_date_day_of_month', 'stays_in_weekend_nights',\n",
      "       'stays_in_week_nights', 'stays_total_nights', 'adults', 'children',\n",
      "       'babies', 'meal', 'country', 'reserved_room_type', 'assigned_room_type',\n",
      "       'customer_type', 'reservation_status', 'reservation_status_date'],\n",
      "      dtype='object')\n"
     ]
    }
   ],
   "execution_count": 47
  },
  {
   "cell_type": "code",
   "source": "bookings = bookings.rename(columns=lambda col: col.replace(\" \", \"_\").lower())\nbookings.head()",
   "metadata": {
    "trusted": true,
    "ExecuteTime": {
     "end_time": "2025-03-02T18:47:44.671653Z",
     "start_time": "2025-03-02T18:47:44.647793Z"
    }
   },
   "outputs": [
    {
     "data": {
      "text/plain": [
       "          hotel  is_canceled  lead_time arrival_full_date  arrival_date_year  \\\n",
       "0  Resort Hotel            0        342        2015-07-01               2015   \n",
       "1  Resort Hotel            0        737        2015-07-01               2015   \n",
       "2  Resort Hotel            0          7        2015-07-01               2015   \n",
       "3  Resort Hotel            0         13        2015-07-01               2015   \n",
       "4  Resort Hotel            0         14        2015-07-01               2015   \n",
       "\n",
       "  arrival_date_month  arrival_date_week_number  arrival_date_day_of_month  \\\n",
       "0               July                        27                          1   \n",
       "1               July                        27                          1   \n",
       "2               July                        27                          1   \n",
       "3               July                        27                          1   \n",
       "4               July                        27                          1   \n",
       "\n",
       "   stays_in_weekend_nights  stays_in_week_nights  ...  adults  children  \\\n",
       "0                        0                     0  ...       2       0.0   \n",
       "1                        0                     0  ...       2       0.0   \n",
       "2                        0                     1  ...       1       0.0   \n",
       "3                        0                     1  ...       1       0.0   \n",
       "4                        0                     2  ...       2       0.0   \n",
       "\n",
       "   babies  meal country reserved_room_type assigned_room_type customer_type  \\\n",
       "0       0    BB     PRT                  C                  C     Transient   \n",
       "1       0    BB     PRT                  C                  C     Transient   \n",
       "2       0    BB     GBR                  A                  C     Transient   \n",
       "3       0    BB     GBR                  A                  A     Transient   \n",
       "4       0    BB     GBR                  A                  A     Transient   \n",
       "\n",
       "  reservation_status reservation_status_date  \n",
       "0          Check-Out              2015-07-01  \n",
       "1          Check-Out              2015-07-01  \n",
       "2          Check-Out              2015-07-02  \n",
       "3          Check-Out              2015-07-02  \n",
       "4          Check-Out              2015-07-03  \n",
       "\n",
       "[5 rows x 21 columns]"
      ],
      "text/html": [
       "<div>\n",
       "<style scoped>\n",
       "    .dataframe tbody tr th:only-of-type {\n",
       "        vertical-align: middle;\n",
       "    }\n",
       "\n",
       "    .dataframe tbody tr th {\n",
       "        vertical-align: top;\n",
       "    }\n",
       "\n",
       "    .dataframe thead th {\n",
       "        text-align: right;\n",
       "    }\n",
       "</style>\n",
       "<table border=\"1\" class=\"dataframe\">\n",
       "  <thead>\n",
       "    <tr style=\"text-align: right;\">\n",
       "      <th></th>\n",
       "      <th>hotel</th>\n",
       "      <th>is_canceled</th>\n",
       "      <th>lead_time</th>\n",
       "      <th>arrival_full_date</th>\n",
       "      <th>arrival_date_year</th>\n",
       "      <th>arrival_date_month</th>\n",
       "      <th>arrival_date_week_number</th>\n",
       "      <th>arrival_date_day_of_month</th>\n",
       "      <th>stays_in_weekend_nights</th>\n",
       "      <th>stays_in_week_nights</th>\n",
       "      <th>...</th>\n",
       "      <th>adults</th>\n",
       "      <th>children</th>\n",
       "      <th>babies</th>\n",
       "      <th>meal</th>\n",
       "      <th>country</th>\n",
       "      <th>reserved_room_type</th>\n",
       "      <th>assigned_room_type</th>\n",
       "      <th>customer_type</th>\n",
       "      <th>reservation_status</th>\n",
       "      <th>reservation_status_date</th>\n",
       "    </tr>\n",
       "  </thead>\n",
       "  <tbody>\n",
       "    <tr>\n",
       "      <th>0</th>\n",
       "      <td>Resort Hotel</td>\n",
       "      <td>0</td>\n",
       "      <td>342</td>\n",
       "      <td>2015-07-01</td>\n",
       "      <td>2015</td>\n",
       "      <td>July</td>\n",
       "      <td>27</td>\n",
       "      <td>1</td>\n",
       "      <td>0</td>\n",
       "      <td>0</td>\n",
       "      <td>...</td>\n",
       "      <td>2</td>\n",
       "      <td>0.0</td>\n",
       "      <td>0</td>\n",
       "      <td>BB</td>\n",
       "      <td>PRT</td>\n",
       "      <td>C</td>\n",
       "      <td>C</td>\n",
       "      <td>Transient</td>\n",
       "      <td>Check-Out</td>\n",
       "      <td>2015-07-01</td>\n",
       "    </tr>\n",
       "    <tr>\n",
       "      <th>1</th>\n",
       "      <td>Resort Hotel</td>\n",
       "      <td>0</td>\n",
       "      <td>737</td>\n",
       "      <td>2015-07-01</td>\n",
       "      <td>2015</td>\n",
       "      <td>July</td>\n",
       "      <td>27</td>\n",
       "      <td>1</td>\n",
       "      <td>0</td>\n",
       "      <td>0</td>\n",
       "      <td>...</td>\n",
       "      <td>2</td>\n",
       "      <td>0.0</td>\n",
       "      <td>0</td>\n",
       "      <td>BB</td>\n",
       "      <td>PRT</td>\n",
       "      <td>C</td>\n",
       "      <td>C</td>\n",
       "      <td>Transient</td>\n",
       "      <td>Check-Out</td>\n",
       "      <td>2015-07-01</td>\n",
       "    </tr>\n",
       "    <tr>\n",
       "      <th>2</th>\n",
       "      <td>Resort Hotel</td>\n",
       "      <td>0</td>\n",
       "      <td>7</td>\n",
       "      <td>2015-07-01</td>\n",
       "      <td>2015</td>\n",
       "      <td>July</td>\n",
       "      <td>27</td>\n",
       "      <td>1</td>\n",
       "      <td>0</td>\n",
       "      <td>1</td>\n",
       "      <td>...</td>\n",
       "      <td>1</td>\n",
       "      <td>0.0</td>\n",
       "      <td>0</td>\n",
       "      <td>BB</td>\n",
       "      <td>GBR</td>\n",
       "      <td>A</td>\n",
       "      <td>C</td>\n",
       "      <td>Transient</td>\n",
       "      <td>Check-Out</td>\n",
       "      <td>2015-07-02</td>\n",
       "    </tr>\n",
       "    <tr>\n",
       "      <th>3</th>\n",
       "      <td>Resort Hotel</td>\n",
       "      <td>0</td>\n",
       "      <td>13</td>\n",
       "      <td>2015-07-01</td>\n",
       "      <td>2015</td>\n",
       "      <td>July</td>\n",
       "      <td>27</td>\n",
       "      <td>1</td>\n",
       "      <td>0</td>\n",
       "      <td>1</td>\n",
       "      <td>...</td>\n",
       "      <td>1</td>\n",
       "      <td>0.0</td>\n",
       "      <td>0</td>\n",
       "      <td>BB</td>\n",
       "      <td>GBR</td>\n",
       "      <td>A</td>\n",
       "      <td>A</td>\n",
       "      <td>Transient</td>\n",
       "      <td>Check-Out</td>\n",
       "      <td>2015-07-02</td>\n",
       "    </tr>\n",
       "    <tr>\n",
       "      <th>4</th>\n",
       "      <td>Resort Hotel</td>\n",
       "      <td>0</td>\n",
       "      <td>14</td>\n",
       "      <td>2015-07-01</td>\n",
       "      <td>2015</td>\n",
       "      <td>July</td>\n",
       "      <td>27</td>\n",
       "      <td>1</td>\n",
       "      <td>0</td>\n",
       "      <td>2</td>\n",
       "      <td>...</td>\n",
       "      <td>2</td>\n",
       "      <td>0.0</td>\n",
       "      <td>0</td>\n",
       "      <td>BB</td>\n",
       "      <td>GBR</td>\n",
       "      <td>A</td>\n",
       "      <td>A</td>\n",
       "      <td>Transient</td>\n",
       "      <td>Check-Out</td>\n",
       "      <td>2015-07-03</td>\n",
       "    </tr>\n",
       "  </tbody>\n",
       "</table>\n",
       "<p>5 rows × 21 columns</p>\n",
       "</div>"
      ]
     },
     "execution_count": 73,
     "metadata": {},
     "output_type": "execute_result"
    }
   ],
   "execution_count": 73
  },
  {
   "cell_type": "markdown",
   "source": "# Задание 6.\n\nПользователи из каких стран совершили наибольшее число успешных бронирований? Бронирование считается успешным, если в дальнейшем не было отменено (переменная is_canceled). В качестве ответа выберите страны, входящие в топ-5.\n\nПодсказка: здесь необходимо сделать группировку по ['country'] и агрегирование по сумме 'is_canceled'.\n",
   "metadata": {}
  },
  {
   "cell_type": "code",
   "source": "successful_bookings = bookings[bookings['is_canceled'] == 0]\ntop_countries = successful_bookings['country'].value_counts().head(5)\nprint(\"Топ-5 стран по количеству успешных бронирований:\\\\n\", top_countries)",
   "metadata": {
    "trusted": true,
    "ExecuteTime": {
     "end_time": "2025-03-02T17:25:33.951830Z",
     "start_time": "2025-03-02T17:25:33.930799Z"
    }
   },
   "outputs": [
    {
     "name": "stdout",
     "output_type": "stream",
     "text": [
      "Топ-5 стран по количеству успешных бронирований:\\n country\n",
      "PRT    21071\n",
      "GBR     9676\n",
      "FRA     8481\n",
      "ESP     6391\n",
      "DEU     6069\n",
      "Name: count, dtype: int64\n"
     ]
    }
   ],
   "execution_count": 32
  },
  {
   "cell_type": "code",
   "source": "top_countries = bookings \\\n    .groupby(['country'], as_index=False) \\\n    .aggregate({'is_canceled': 'sum'}) \\\n    .sort_values('is_canceled', ascending=False) \\\n    .head(5)\ntop_countries",
   "metadata": {
    "trusted": true,
    "ExecuteTime": {
     "end_time": "2025-03-02T17:25:45.357075Z",
     "start_time": "2025-03-02T17:25:45.340160Z"
    }
   },
   "outputs": [
    {
     "data": {
      "text/plain": [
       "    country  is_canceled\n",
       "135     PRT        27519\n",
       "59      GBR         2453\n",
       "51      ESP         2177\n",
       "56      FRA         1934\n",
       "81      ITA         1333"
      ],
      "text/html": [
       "<div>\n",
       "<style scoped>\n",
       "    .dataframe tbody tr th:only-of-type {\n",
       "        vertical-align: middle;\n",
       "    }\n",
       "\n",
       "    .dataframe tbody tr th {\n",
       "        vertical-align: top;\n",
       "    }\n",
       "\n",
       "    .dataframe thead th {\n",
       "        text-align: right;\n",
       "    }\n",
       "</style>\n",
       "<table border=\"1\" class=\"dataframe\">\n",
       "  <thead>\n",
       "    <tr style=\"text-align: right;\">\n",
       "      <th></th>\n",
       "      <th>country</th>\n",
       "      <th>is_canceled</th>\n",
       "    </tr>\n",
       "  </thead>\n",
       "  <tbody>\n",
       "    <tr>\n",
       "      <th>135</th>\n",
       "      <td>PRT</td>\n",
       "      <td>27519</td>\n",
       "    </tr>\n",
       "    <tr>\n",
       "      <th>59</th>\n",
       "      <td>GBR</td>\n",
       "      <td>2453</td>\n",
       "    </tr>\n",
       "    <tr>\n",
       "      <th>51</th>\n",
       "      <td>ESP</td>\n",
       "      <td>2177</td>\n",
       "    </tr>\n",
       "    <tr>\n",
       "      <th>56</th>\n",
       "      <td>FRA</td>\n",
       "      <td>1934</td>\n",
       "    </tr>\n",
       "    <tr>\n",
       "      <th>81</th>\n",
       "      <td>ITA</td>\n",
       "      <td>1333</td>\n",
       "    </tr>\n",
       "  </tbody>\n",
       "</table>\n",
       "</div>"
      ]
     },
     "execution_count": 33,
     "metadata": {},
     "output_type": "execute_result"
    }
   ],
   "execution_count": 33
  },
  {
   "cell_type": "markdown",
   "source": "# Задание 7.\n\nНа сколько ночей (stays_total_nights) в среднем бронируют отели типа City Hotel? Resort Hotel?",
   "metadata": {}
  },
  {
   "cell_type": "code",
   "source": [
    "city_hotel_avg_nights = bookings[bookings['hotel'] == 'City Hotel']['stays_total_nights'].mean()\n",
    "resort_hotel_avg_nights = bookings[bookings['hotel'] == 'Resort Hotel']['stays_total_nights'].mean()\n",
    "print(\"Среднее количество ночей в City Hotel:\", city_hotel_avg_nights)\n",
    "print(\"Среднее количество ночей в Resort Hotel:\", resort_hotel_avg_nights)"
   ],
   "metadata": {
    "trusted": true,
    "ExecuteTime": {
     "end_time": "2025-03-02T17:26:31.568060Z",
     "start_time": "2025-03-02T17:26:31.528719Z"
    }
   },
   "outputs": [
    {
     "name": "stdout",
     "output_type": "stream",
     "text": [
      "Среднее количество ночей в City Hotel: 2.978141938736922\n",
      "Среднее количество ночей в Resort Hotel: 4.318547179231153\n"
     ]
    }
   ],
   "execution_count": 36
  },
  {
   "cell_type": "code",
   "source": "mean_nights = bookings \\\n    .groupby(['hotel'], as_index=False) \\\n    .aggregate({'stays_total_nights': 'mean'}) \\\n    .sort_values('stays_total_nights', ascending=False) \\\n    .round(2)\nmean_nights",
   "metadata": {
    "trusted": true,
    "ExecuteTime": {
     "end_time": "2025-03-02T17:37:51.876020Z",
     "start_time": "2025-03-02T17:37:51.858374Z"
    }
   },
   "outputs": [
    {
     "data": {
      "text/plain": [
       "          hotel  stays_total_nights\n",
       "1  Resort Hotel                4.32\n",
       "0    City Hotel                2.98"
      ],
      "text/html": [
       "<div>\n",
       "<style scoped>\n",
       "    .dataframe tbody tr th:only-of-type {\n",
       "        vertical-align: middle;\n",
       "    }\n",
       "\n",
       "    .dataframe tbody tr th {\n",
       "        vertical-align: top;\n",
       "    }\n",
       "\n",
       "    .dataframe thead th {\n",
       "        text-align: right;\n",
       "    }\n",
       "</style>\n",
       "<table border=\"1\" class=\"dataframe\">\n",
       "  <thead>\n",
       "    <tr style=\"text-align: right;\">\n",
       "      <th></th>\n",
       "      <th>hotel</th>\n",
       "      <th>stays_total_nights</th>\n",
       "    </tr>\n",
       "  </thead>\n",
       "  <tbody>\n",
       "    <tr>\n",
       "      <th>1</th>\n",
       "      <td>Resort Hotel</td>\n",
       "      <td>4.32</td>\n",
       "    </tr>\n",
       "    <tr>\n",
       "      <th>0</th>\n",
       "      <td>City Hotel</td>\n",
       "      <td>2.98</td>\n",
       "    </tr>\n",
       "  </tbody>\n",
       "</table>\n",
       "</div>"
      ]
     },
     "execution_count": 50,
     "metadata": {},
     "output_type": "execute_result"
    }
   ],
   "execution_count": 50
  },
  {
   "cell_type": "markdown",
   "source": "# Задание 8.\n\nИногда тип номера, присвоенного клиенту (assigned_room_type), отличается от изначально забронированного (reserved_room_type). Такое может произойти, например, по причине овербукинга. Сколько подобных наблюдений встретилось в датасете?\n\n*отмена бронирования также считается\n\n\nПодсказка: воспользуйтесь  .query('reserved_room_type != assigned_room_type')",
   "metadata": {}
  },
  {
   "cell_type": "code",
   "source": [
    "different_room_types = bookings.query('reserved_room_type != assigned_room_type').shape[0]\n",
    "print(\"Количество бронирований, где тип номера отличался:\", different_room_types)"
   ],
   "metadata": {
    "trusted": true,
    "ExecuteTime": {
     "end_time": "2025-03-02T17:39:22.142327Z",
     "start_time": "2025-03-02T17:39:22.125771Z"
    }
   },
   "outputs": [
    {
     "name": "stdout",
     "output_type": "stream",
     "text": [
      "Количество бронирований, где тип номера отличался: 14917\n"
     ]
    }
   ],
   "execution_count": 56
  },
  {
   "cell_type": "code",
   "source": "mean_nights = bookings \\\n    .groupby(['hotel'], as_index=False) \\\n    .aggregate({'stays_total_nights': 'mean'}) \\\n    .sort_values('stays_total_nights', ascending=False) \\\n    .round(2)\nmean_nights",
   "metadata": {
    "trusted": true,
    "ExecuteTime": {
     "end_time": "2025-03-02T17:39:19.613058Z",
     "start_time": "2025-03-02T17:39:19.594979Z"
    }
   },
   "outputs": [
    {
     "data": {
      "text/plain": [
       "          hotel  stays_total_nights\n",
       "1  Resort Hotel                4.32\n",
       "0    City Hotel                2.98"
      ],
      "text/html": [
       "<div>\n",
       "<style scoped>\n",
       "    .dataframe tbody tr th:only-of-type {\n",
       "        vertical-align: middle;\n",
       "    }\n",
       "\n",
       "    .dataframe tbody tr th {\n",
       "        vertical-align: top;\n",
       "    }\n",
       "\n",
       "    .dataframe thead th {\n",
       "        text-align: right;\n",
       "    }\n",
       "</style>\n",
       "<table border=\"1\" class=\"dataframe\">\n",
       "  <thead>\n",
       "    <tr style=\"text-align: right;\">\n",
       "      <th></th>\n",
       "      <th>hotel</th>\n",
       "      <th>stays_total_nights</th>\n",
       "    </tr>\n",
       "  </thead>\n",
       "  <tbody>\n",
       "    <tr>\n",
       "      <th>1</th>\n",
       "      <td>Resort Hotel</td>\n",
       "      <td>4.32</td>\n",
       "    </tr>\n",
       "    <tr>\n",
       "      <th>0</th>\n",
       "      <td>City Hotel</td>\n",
       "      <td>2.98</td>\n",
       "    </tr>\n",
       "  </tbody>\n",
       "</table>\n",
       "</div>"
      ]
     },
     "execution_count": 55,
     "metadata": {},
     "output_type": "execute_result"
    }
   ],
   "execution_count": 55
  },
  {
   "cell_type": "markdown",
   "source": "# Задание 9.\n\nТеперь проанализируйте даты запланированного прибытия (arrival_date_year). На какой месяц чаще всего оформляли бронь в 2016 году? Изменился ли самый популярный месяц в 2017?\n\nВам пригодится arrival_date_month.agg(pd.Series.mode) - Mode - возвращает самое часто встречаемое значение, если таких несколько возвращает их все\n",
   "metadata": {}
  },
  {
   "cell_type": "code",
   "source": [
    "bookings_2016 = bookings[bookings['arrival_date_year'] == 2016]['arrival_date_month']\n",
    "most_popular_month_2016 = bookings_2016.agg(pd.Series.mode)\n",
    "\n",
    "bookings_2017 = bookings[bookings['arrival_date_year'] == 2017]['arrival_date_month']\n",
    "most_popular_month_2017 = bookings_2017.agg(pd.Series.mode)\n",
    "\n",
    "print(\"Самый популярный месяц для бронирования в 2016:\", most_popular_month_2016)\n",
    "print(\"Самый популярный месяц для бронирования в 2017:\", most_popular_month_2017)"
   ],
   "metadata": {
    "trusted": true,
    "ExecuteTime": {
     "end_time": "2025-03-02T17:40:08.749527Z",
     "start_time": "2025-03-02T17:40:08.721876Z"
    }
   },
   "outputs": [
    {
     "name": "stdout",
     "output_type": "stream",
     "text": [
      "Самый популярный месяц для бронирования в 2016: 0    October\n",
      "Name: arrival_date_month, dtype: object\n",
      "Самый популярный месяц для бронирования в 2017: 0    May\n",
      "Name: arrival_date_month, dtype: object\n"
     ]
    }
   ],
   "execution_count": 58
  },
  {
   "cell_type": "code",
   "source": "bookings.groupby('arrival_date_year').arrival_date_month.agg(pd.Series.mode)",
   "metadata": {
    "trusted": true,
    "ExecuteTime": {
     "end_time": "2025-03-02T18:44:00.011148Z",
     "start_time": "2025-03-02T18:43:59.992950Z"
    }
   },
   "outputs": [
    {
     "data": {
      "text/plain": [
       "arrival_date_year\n",
       "2015    September\n",
       "2016      October\n",
       "2017          May\n",
       "Name: arrival_date_month, dtype: object"
      ]
     },
     "execution_count": 68,
     "metadata": {},
     "output_type": "execute_result"
    }
   ],
   "execution_count": 68
  },
  {
   "cell_type": "markdown",
   "source": "# Задание 10.\n\nСгруппируйте данные по годам, а затем проверьте, на какой месяц (arrival_date_month) бронирования отеля типа \nCity Hotel отменялись чаще всего в 2015? 2016? 2017?\n\nПодсказка: для этого сначала примените метод groupby, после чего выберите нужную колонку для дальнейших действий\n\nНапример:\n\ndf.groupby('column_1')['column_2'].what_to_do()",
   "metadata": {}
  },
  {
   "cell_type": "code",
   "source": [
    "canceled_city_hotel_2015 = bookings[(bookings['hotel'] == 'City Hotel') & (bookings['arrival_date_year'] == 2015) & (bookings['is_canceled'] == 1)]['arrival_date_month'].mode()\n",
    "canceled_city_hotel_2016 = bookings[(bookings['hotel'] == 'City Hotel') & (bookings['arrival_date_year'] == 2016) & (bookings['is_canceled'] == 1)]['arrival_date_month'].mode()\n",
    "canceled_city_hotel_2017 = bookings[(bookings['hotel'] == 'City Hotel') & (bookings['arrival_date_year'] == 2017) & (bookings['is_canceled'] == 1)]['arrival_date_month'].mode()\n",
    "\n",
    "print(\"Самый частый месяц отмены бронирования City Hotel в 2015:\", canceled_city_hotel_2015)\n",
    "print(\"Самый частый месяц отмены бронирования City Hotel в 2016:\", canceled_city_hotel_2016)\n",
    "print(\"Самый частый месяц отмены бронирования City Hotel в 2017:\", canceled_city_hotel_2017)"
   ],
   "metadata": {
    "trusted": true,
    "ExecuteTime": {
     "end_time": "2025-03-02T17:40:37.061871Z",
     "start_time": "2025-03-02T17:40:37.019579Z"
    }
   },
   "outputs": [
    {
     "name": "stdout",
     "output_type": "stream",
     "text": [
      "Самый частый месяц отмены бронирования City Hotel в 2015: 0    September\n",
      "Name: arrival_date_month, dtype: object\n",
      "Самый частый месяц отмены бронирования City Hotel в 2016: 0    October\n",
      "Name: arrival_date_month, dtype: object\n",
      "Самый частый месяц отмены бронирования City Hotel в 2017: 0    May\n",
      "Name: arrival_date_month, dtype: object\n"
     ]
    }
   ],
   "execution_count": 61
  },
  {
   "cell_type": "code",
   "source": "bookings.groupby(['arrival_date_year', 'arrival_date_month']).is_canceled.sum()",
   "metadata": {
    "trusted": true,
    "ExecuteTime": {
     "end_time": "2025-03-02T18:48:30.477208Z",
     "start_time": "2025-03-02T18:48:30.459997Z"
    }
   },
   "outputs": [
    {
     "data": {
      "text/plain": [
       "arrival_date_year  arrival_date_month\n",
       "2015               August                1598\n",
       "                   December               973\n",
       "                   July                  1259\n",
       "                   November               486\n",
       "                   October               1732\n",
       "                   September             2094\n",
       "2016               April                 2061\n",
       "                   August                1825\n",
       "                   December              1398\n",
       "                   February              1337\n",
       "                   January                557\n",
       "                   July                  1499\n",
       "                   June                  2096\n",
       "                   March                 1477\n",
       "                   May                   1915\n",
       "                   November              1636\n",
       "                   October               2514\n",
       "                   September             2022\n",
       "2017               April                 2463\n",
       "                   August                1816\n",
       "                   February              1359\n",
       "                   January               1250\n",
       "                   July                  1984\n",
       "                   June                  2439\n",
       "                   March                 1672\n",
       "                   May                   2762\n",
       "Name: is_canceled, dtype: int64"
      ]
     },
     "execution_count": 74,
     "metadata": {},
     "output_type": "execute_result"
    }
   ],
   "execution_count": 74
  },
  {
   "cell_type": "code",
   "source": "bookings.groupby(['arrival_date_year', 'arrival_date_month']).is_canceled.sum().groupby(['arrival_date_year']).nlargest(1)\n# nlargest(1) похож на top(1) в SQL, возвращает 1 строку с наибольшим значением",
   "metadata": {
    "trusted": true,
    "ExecuteTime": {
     "end_time": "2025-03-02T17:41:03.507150Z",
     "start_time": "2025-03-02T17:41:03.345270Z"
    }
   },
   "outputs": [
    {
     "data": {
      "text/plain": [
       "arrival_date_year  arrival_date_year  arrival_date_month\n",
       "2015               2015               September             2094\n",
       "2016               2016               October               2514\n",
       "2017               2017               May                   2762\n",
       "Name: is_canceled, dtype: int64"
      ]
     },
     "execution_count": 63,
     "metadata": {},
     "output_type": "execute_result"
    }
   ],
   "execution_count": 63
  },
  {
   "cell_type": "markdown",
   "source": "# Задание 11.\n\nПосмотрите на числовые характеристики трёх колонок: adults, children и babies. Какая из них имеет наибольшее среднее значение?",
   "metadata": {}
  },
  {
   "cell_type": "code",
   "source": "bookings[['adults', 'children', 'babies']].mean()",
   "metadata": {
    "trusted": true,
    "ExecuteTime": {
     "end_time": "2025-03-02T17:41:08.711066Z",
     "start_time": "2025-03-02T17:41:08.703207Z"
    }
   },
   "outputs": [
    {
     "data": {
      "text/plain": [
       "adults      1.856403\n",
       "children    0.103890\n",
       "babies      0.007949\n",
       "dtype: float64"
      ]
     },
     "execution_count": 64,
     "metadata": {},
     "output_type": "execute_result"
    }
   ],
   "execution_count": 64
  },
  {
   "cell_type": "markdown",
   "source": "# Задание 12\n\nСоздайте колонку total_kids, объединив столбцы children и babies. Для отелей какого типа среднее значение переменной оказалось наибольшим?\n\nCity hotel – отель находится в городе Resort hotel – отель курортный\n\nВ качестве ответа укажите наибольшее среднее total_kids, округлив до 2 знаков после точки.\n\n\nПодсказка: Создать новый столбец из 2-х предыдущих довольно просто, например\nbookings['новый столбец'] = bookings.старый_столбец_1 + bookings.старый_столбец_2",
   "metadata": {}
  },
  {
   "cell_type": "code",
   "source": [
    "bookings['total_kids'] = bookings['children'].fillna(0) + bookings['babies'].fillna(0)  #fillna чтобы избежать NaN\n",
    "\n",
    "avg_kids_by_hotel = bookings.groupby('hotel')['total_kids'].mean().round(2)\n",
    "print(\"Среднее количество детей по типу отеля:\", avg_kids_by_hotel)\n",
    "\n",
    "max_avg_kids = avg_kids_by_hotel.max()\n",
    "print(\"Наибольшее среднее количество детей:\", max_avg_kids)"
   ],
   "metadata": {
    "trusted": true,
    "ExecuteTime": {
     "end_time": "2025-03-02T17:41:27.934638Z",
     "start_time": "2025-03-02T17:41:27.921310Z"
    }
   },
   "outputs": [
    {
     "name": "stdout",
     "output_type": "stream",
     "text": [
      "Среднее количество детей по типу отеля: hotel\n",
      "City Hotel      0.10\n",
      "Resort Hotel    0.14\n",
      "Name: total_kids, dtype: float64\n",
      "Наибольшее среднее количество детей: 0.14\n"
     ]
    }
   ],
   "execution_count": 66
  },
  {
   "cell_type": "code",
   "source": "bookings['total_kids'] = bookings.children + bookings.babies\nbookings.groupby('hotel').total_kids.mean().round(2)",
   "metadata": {
    "trusted": true,
    "ExecuteTime": {
     "end_time": "2025-03-02T17:41:34.948170Z",
     "start_time": "2025-03-02T17:41:34.933777Z"
    }
   },
   "outputs": [
    {
     "data": {
      "text/plain": [
       "hotel\n",
       "City Hotel      0.10\n",
       "Resort Hotel    0.14\n",
       "Name: total_kids, dtype: float64"
      ]
     },
     "execution_count": 67,
     "metadata": {},
     "output_type": "execute_result"
    }
   ],
   "execution_count": 67
  }
 ]
}
